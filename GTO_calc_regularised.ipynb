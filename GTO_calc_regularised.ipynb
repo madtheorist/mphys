{
 "cells": [
  {
   "cell_type": "markdown",
   "id": "10de69e7-0f75-48d5-8d68-9c79b3c47b4b",
   "metadata": {},
   "source": [
    "## Calculating the GTO but with regularization terms"
   ]
  },
  {
   "cell_type": "code",
   "execution_count": 1,
   "id": "bee39863-6ddb-4914-99b8-2059df6e6337",
   "metadata": {},
   "outputs": [],
   "source": [
    "## Imports\n",
    "%matplotlib inline\n",
    "import numpy as np\n",
    "import pandas as pd\n",
    "from matplotlib import pyplot as plt\n",
    "from sklearn.preprocessing import StandardScaler\n",
    "from sklearn.linear_model import LinearRegression, Lasso, LassoCV\n",
    "from utils import *\n",
    "import xarray as xr\n",
    "import time"
   ]
  },
  {
   "cell_type": "markdown",
   "id": "4e6eb939-f11d-428f-94ff-029a997b0282",
   "metadata": {},
   "source": [
    "### Simple linear model with lasso (l1) regularization\n",
    "\n",
    "This can be done using the built in scikit-learn Lasso class."
   ]
  },
  {
   "cell_type": "code",
   "execution_count": 56,
   "id": "955132da-da45-4188-b37e-598352d1467a",
   "metadata": {},
   "outputs": [],
   "source": [
    "delta_SST = xr.open_dataarray(\"delta_SST_pr.nc\").compute()\n",
    "delta_precip = xr.open_dataarray(\"delta_precip_10deg.nc\").compute()"
   ]
  },
  {
   "cell_type": "code",
   "execution_count": 57,
   "id": "25d03735-ae26-4a6e-815e-a8b7e4b77e58",
   "metadata": {},
   "outputs": [],
   "source": [
    "delta_SST = delta_SST.sel(lat=slice(60, -60))"
   ]
  },
  {
   "cell_type": "markdown",
   "id": "15f72bce-3e4e-4bd4-b995-66bce4a736e8",
   "metadata": {},
   "source": [
    "Let us compute the GTO for the point with lat = 25.0 and lon = 5.0. To do this we extract the target vector, the precipitation anomaly $\\vec{y}$ as"
   ]
  },
  {
   "cell_type": "code",
   "execution_count": 58,
   "id": "74309d16-f4bd-474f-8098-f866530cdd4d",
   "metadata": {},
   "outputs": [],
   "source": [
    "mylat = 25\n",
    "mylon = 5\n",
    "y = point_delta_precip_vector(delta_precip, mylat=mylat, mylon=mylon, time_avg='ANNUAL', weight_by_lat=True)"
   ]
  },
  {
   "cell_type": "code",
   "execution_count": 59,
   "id": "7f523731-dc93-4e4f-b81d-73eeda43b0cc",
   "metadata": {},
   "outputs": [
    {
     "name": "stdout",
     "output_type": "stream",
     "text": [
      "(5545,)\n"
     ]
    }
   ],
   "source": [
    "print(y.shape)"
   ]
  },
  {
   "cell_type": "markdown",
   "id": "0d210c50-f25d-46cf-9fbe-d0bb1e4a2eca",
   "metadata": {},
   "source": [
    "The matrix $\\mathbf{X}$ represents the SST field perturbations and has dimensions (number of training examples = 5545) x (number of gridpoints = 18624). We must therefore flatten the delta_SST array to these dimensions."
   ]
  },
  {
   "cell_type": "code",
   "execution_count": 60,
   "id": "743c6510-2407-4c67-b2d0-7e51bf94d253",
   "metadata": {},
   "outputs": [
    {
     "data": {
      "text/plain": [
       "(5545, 97, 192)"
      ]
     },
     "execution_count": 60,
     "metadata": {},
     "output_type": "execute_result"
    }
   ],
   "source": [
    "delta_SST.data.shape"
   ]
  },
  {
   "cell_type": "code",
   "execution_count": 61,
   "id": "1fdb6a30-527d-46fb-941c-d644c0cbabff",
   "metadata": {},
   "outputs": [],
   "source": [
    "X = delta_SST.data.reshape(5545, -1)"
   ]
  },
  {
   "cell_type": "code",
   "execution_count": 62,
   "id": "9cc63629-4fda-4ed0-92dd-feb8625420c8",
   "metadata": {},
   "outputs": [
    {
     "data": {
      "text/plain": [
       "(5545, 18624)"
      ]
     },
     "execution_count": 62,
     "metadata": {},
     "output_type": "execute_result"
    }
   ],
   "source": [
    "X.shape"
   ]
  },
  {
   "cell_type": "markdown",
   "id": "91eaf7ba-2366-4ef5-824f-ad067e34faf5",
   "metadata": {},
   "source": [
    "Scale the $\\mathbf{X}$ data first using StandardScaler. This removes the mean and scales to unit variance (calculates the z-scores)."
   ]
  },
  {
   "cell_type": "code",
   "execution_count": 41,
   "id": "eeaaabd9-6b67-4abe-bcbe-7374ab0298be",
   "metadata": {},
   "outputs": [],
   "source": [
    "#scaler = StandardScaler().fit(X)\n",
    "#X = scaler.transform(X)"
   ]
  },
  {
   "cell_type": "code",
   "execution_count": 67,
   "id": "ddb50539-7ee5-47bc-89c0-b3c4b6a37c36",
   "metadata": {},
   "outputs": [
    {
     "data": {
      "text/plain": [
       "(5545, 500)"
      ]
     },
     "execution_count": 67,
     "metadata": {},
     "output_type": "execute_result"
    }
   ],
   "source": [
    "# test method first for a small number of gridpoints\n",
    "X_testing = X[:,:500]\n",
    "X_testing.shape"
   ]
  },
  {
   "cell_type": "markdown",
   "id": "d6cdd7d9-8c45-4956-b973-37efb3a1b33f",
   "metadata": {
    "tags": []
   },
   "source": [
    "### Simple linear regression, no regularization"
   ]
  },
  {
   "cell_type": "code",
   "execution_count": 73,
   "id": "af230d8b-2785-44a7-9d17-4151f872729b",
   "metadata": {},
   "outputs": [
    {
     "name": "stdout",
     "output_type": "stream",
     "text": [
      "Time elapsed: 10.408801555633545 seconds\n"
     ]
    }
   ],
   "source": [
    "t0 = time.time()\n",
    "coeffs = np.array(\n",
    "for X_gridpoint in X.T: # need to loop over individual gridpoints\n",
    "    reg = LinearRegression().fit(X_gridpoint.reshape(-1, 1), y)\n",
    "    coeffs.append(reg.coef_[0])\n",
    "t1 = time.time()\n",
    "print(\"Time elapsed: {} seconds\".format(t1 - t0))"
   ]
  },
  {
   "cell_type": "markdown",
   "id": "1a34cdb5-71a7-4706-a287-efa0766198aa",
   "metadata": {},
   "source": [
    "Q: difference between doing individual regressions for each gridpoint, or doing multiple linear regression (much much slower!) Lasso, custom loss function etc. seems to suffer from the same problem."
   ]
  },
  {
   "cell_type": "code",
   "execution_count": null,
   "id": "799d3b80-a9ff-4886-8ac7-4705bcc98c5e",
   "metadata": {},
   "outputs": [],
   "source": []
  }
 ],
 "metadata": {
  "kernelspec": {
   "display_name": "Python [conda env:xesmf_env]",
   "language": "python",
   "name": "conda-env-xesmf_env-py"
  },
  "language_info": {
   "codemirror_mode": {
    "name": "ipython",
    "version": 3
   },
   "file_extension": ".py",
   "mimetype": "text/x-python",
   "name": "python",
   "nbconvert_exporter": "python",
   "pygments_lexer": "ipython3",
   "version": "3.10.6"
  }
 },
 "nbformat": 4,
 "nbformat_minor": 5
}
